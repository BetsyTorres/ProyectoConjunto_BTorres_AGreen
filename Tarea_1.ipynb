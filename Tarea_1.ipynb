{
 "cells": [
  {
   "cell_type": "markdown",
   "metadata": {},
   "source": [
    "# Tarea 1"
   ]
  },
  {
   "cell_type": "markdown",
   "metadata": {},
   "source": [
    "<img style=\"float: left; margin: 30px 15px 15px 15px;\" src=\"https://pngimage.net/wp-content/uploads/2018/06/logo-iteso-png-5.png\" width=\"300\" height=\"500\" /> \n",
    "    \n",
    "    \n",
    "### <font color='navy'> Simulación de procesos financieros. \n",
    "\n",
    "**Nombres:** Betsy Torres | Andrés Green.\n",
    "\n",
    "**Fecha:** 1 de septiembre del 2020.\n",
    "\n",
    "**Expediente** : 714095 | 713504. \n",
    "**Profesor:** Oscar David Jaramillo Zuluaga.\n",
    "\n",
    "**Link GitHub:** https://github.com/BetsyTorres/ProyectoConjunto_BTorres_AGreen/blob/master/Tarea_1.ipynb\n",
    "# Tarea 1-a: Clase 2"
   ]
  },
  {
   "cell_type": "markdown",
   "metadata": {},
   "source": [
    "## Proyecto Colaborativo"
   ]
  },
  {
   "cell_type": "markdown",
   "metadata": {},
   "source": [
    "## Proyecto colaborativo\n",
    "**Descripción de la tarea**\n",
    "\n",
    "Este archivo contiene las pautas necesarias para crear el archivo conjunto en Github, usando los notebooks de Jupyter:\n",
    "\n",
    "1.  El archivo debe realizarse en parejas y sólo uno de los dos debe crear en su cuenta de *\"Github\"* un repositorio con el nombre **ProyectoConjunto\\_APELLIDO1\\_APELLIDO2**, a esta persona la llamaremos (ESTUDIANTE 1 ). El APELLIDO se debe de escribir (Iniciales del nombre y primer apellido), por ejemplo si yo creara el archivo lo debería de nombrar *ProyectoConjunto\\_ODJaramillo*. \n",
    "1.  Posteriormente, desde la cuenta del (ESTUDIANTE 2) 'aquel que no creó el repositorio anterior' ingresar al perfil del ESTUDIANTE 1 y en el repositorio creado en el paso 1, realizar un \"fork\" de este repositorio en su perfil, y además realizar los pasos en Gitkraken para hacer dicho repositorio \"Remoto (REMOTE)\" VER DICHO PROCEDIMIENTO EN LA CLASE **Clase2\\_GitTurorial2**.\n",
    "1.  Luego de realizados los pasos 1 y 2, el ESTUDIANTE 1 y ESTUDIANTE 2, desde su computador realizan un *clone* del repositorio creado en el numeral 1 en la carpeta que cada quién haya asignado para el curso en su PC. \n",
    "1.  Luego desde Jupyter el ESTUDIANTE 1, crear un nuevo ``notebook`` en el repositorio del paso 3. \n",
    "1.  En este nuevo notebook el ESTUDIANTE 1 y ESTUDIANTE 2, deben realizar una presentación describiendo sus expectativas del curso y la transcipción de la Figura 1 y Figura 2 respectivamente, haciendo uso de la sintaxis Markdown. Recuerden definir unas celdas donde cada usuario modificará el cuaderno de python para evitar futuros conflictos. \n",
    "\n",
    "**RECOMENDACIÓN:ANTES DE EMPEZAR A REALIZAR MUCHAS MODIFICACIONES DEL NOTEBOOK PRIMERO REALICEN CAMBIOS PEQUEÑOS EN EL ARCHIVO EN CONJUNTO Y VERIFIQUEN SI TANTO EL ``ESTUDIANTE 1`` COMO EL ``ESTUDIANTE 2``  RECIBEN LAS ACTUALIZACIONES QUE REALIZAN CADA UNO EN EL PROYECTO PARA VERIFICAR QUE EL REMOTE ESTUVO BIEN CONFIGURADO.**\n",
    ">Les recomiendo ver los siguientes enlaces para ver distintas funciones para escribir en markdown.\n",
    ">    - [Creador de tablas online](https://www.tablesgenerator.com/markdown_tables)\n",
    ">    - [Sintáxis markdown](https://joplinapp.org/markdown/)\n",
    "\n",
    "6. Cuando ya se encuentre el proyecto conjunto con la información del ESTUDIANTE 1 y ESTUDIANTE 2, el ``ESTUDIANTE 2`` el que no fue el creador del repositorio en github, debe de realizar un `pull request` con las modificaciones realizadas a el `ESTUDIANTE 1` para que éste realice un merge a la rama `master`, con las moficaciones propuestas por el `ESTUDIANTE 2`, TAL Y CÓMO SE REALIZÓ EN CLASE. (Recuerden que los pull request se generan en *Gitkraken* y se administran los comentarios o cambios propuestos por su compañero desde *Github* ''**ver Clase1\\_GitTurorial** para aclaración de dudas'' donde se explica el crear *branch y pull request*)"
   ]
  },
  {
   "cell_type": "markdown",
   "metadata": {},
   "source": [
    "### Ejercicio 1: ¿Qué expectativas tenemos del curso?"
   ]
  },
  {
   "cell_type": "markdown",
   "metadata": {},
   "source": [
    "**Betsy Torres:** Soy estudiante de séptimo semestre de Ingeniería financiera, y una de las expectativas que tengo para este curso es el aprender a generar múltiples escenarios futuros y tomar el que mejor se acomode a mis necesidades. También otra de mis expectativas es aprender utilizar el lenguaje de python de la manera más óptima posible, haciendo que mi habilidad de programación mejore."
   ]
  },
  {
   "cell_type": "markdown",
   "metadata": {},
   "source": [
    "**Andrés Green:** Para el curso de Simulación Matemática espero aprender como programar todos los procesos financieros de los que he aprendido en mi carrera y hacerme un experto en GitHub/GitKraken/Python."
   ]
  },
  {
   "cell_type": "markdown",
   "metadata": {},
   "source": [
    "### Figura 1 en Markdown (Betsy Torres)\n",
    "\n",
    "| $i$ | $x$ | $f(x)$ |\n",
    "|:--:|:----:|:------:|\n",
    "| 0  |  -1  | 0.3678 |\n",
    "|<font color=red> 1 </font>|<font color=red>-0.5</font>|<font color=red> 0.7788 </font>|\n",
    "|<font color=blue> 2 </font>|<font color=blue>0</font>|<font color=blue> 1 </font>|\n",
    "|<font color=red> 3 </font>|<font color=red>0.5</font>|<font color=red> 0.7788 </font>|\n",
    "|4   |   1  | 0.3678 |\n",
    "\n",
    "<p style='text-align: center;'> Cuadro 1. Tabla de valores de $f(x)$ </p>\n",
    "\n",
    "$$\n",
    "\\begin{aligned}\n",
    "f(x) = \\int_{-1}^1 exp^{-x^2} dx  &\\approx \\frac{0,5}{3} [f(-1)+f(1)+4(f(-0,5)+f(0,5))+2f(0)] \\\\\n",
    "                       &\\approx \\frac{0,5}{3} [(0,3678)+(0,3678)+4((0,7788)+(0,7788))+ 2\\cdot1] \\approx 1,4943 \\\\\n",
    "\\end{aligned}\n",
    "$$\n",
    "\n",
    "<p style='text-align: justify;'>A modo de verificación, se calculará por software, el valor del área para $n$ = 100, un valor mucho más elevado al que se utilizó anteriormente. Si lo calculado previamente es correcto, se espera que sea próximo al valor presentado a continuación para ser una buena aproximación. \n",
    "\n",
    "$$\n",
    "f(x) = \\int_{-1}^1 exp^{-x^2} dx  \\approx 1,4936\n",
    "$$"
   ]
  },
  {
   "cell_type": "markdown",
   "metadata": {},
   "source": [
    "### Figura 2 en Markdown (Andrés Green)\n",
    "\n",
    "| i | 1 | 2 | 3 | 4 | 5 | 6 | 7 |\n",
    "|---|---| --|---|---|---|---|---|\n",
    "| $E_i$(V) | 12 |10 | 24 | 12 | - | - | - |\n",
    "| $r_i$($\\Omega$) | 0.1 | 0.5 | 0.2 | 0.5 | - | - | - |\n",
    "| $R_i$($\\Omega$)| 25 | 40 | 16 | 20 | 9 | 4 | 20\n",
    "\n",
    "&emsp; <font color=blue>Kemna y Vorst (1990)</font> muestran que las opciones asiáticas con media geométrica continua se pueden valuar con el mismo enfoque de las opciones plain vanilla; solo se deben cambiar los parámetros de volatilidad $\\sigma$ por $\\sigma_a$, y el costo de acarreo *b* por *$b_A$*.\n",
    "\n",
    "&emsp; De acuerdo con Kemna y Vorst, las fórmulas para valuar una opción de compra y una opción de venta son:\n",
    "\n",
    "&emsp; $c \\approx S_te^{(b_A-r)(T-t)}\\phi(d_1)-Ke^{-r(T-t)}\\phi(d_2)$,\n",
    "\n",
    "&emsp; $p \\approx Ke^{-r(T-t)}\\phi(-d_2)-S_te^{(b_A-r)(T-t)}\\phi(-d_1)$.\n",
    "\n",
    "con $d_1$ y $d_2$ dados por:\n",
    "\n",
    "&emsp; $d_1 = \\frac{ln(S_t/K)+(b_A+1/2\\sigma^2_a)(T-t)}{\\sigma\\sqrt{T-t}}$\n",
    "\n",
    "&emsp; $d_2 = d_1-\\sigma_a\\sqrt{T-t}$.\n",
    "\n",
    "La función $\\phi(d)$ es la función de distribución acumulada de $E\\sim N(0,1)$. La volatilidad ajustada es igual a:\n",
    "\n",
    "&emsp; $\\sigma_a = \\frac{\\sigma}{\\sqrt{3}}$,\n",
    "\n",
    "Mientras que el costo de accareo ajustado es:\n",
    "\n",
    "&emsp; $b_A = \\frac{1}{2}(v-\\frac{\\sigma^2}{6})$."
   ]
  },
  {
   "cell_type": "code",
   "execution_count": null,
   "metadata": {},
   "outputs": [],
   "source": []
  }
 ],
 "metadata": {
  "kernelspec": {
   "display_name": "Python 3",
   "language": "python",
   "name": "python3"
  },
  "language_info": {
   "codemirror_mode": {
    "name": "ipython",
    "version": 3
   },
   "file_extension": ".py",
   "mimetype": "text/x-python",
   "name": "python",
   "nbconvert_exporter": "python",
   "pygments_lexer": "ipython3",
   "version": "3.8.3"
  }
 },
 "nbformat": 4,
 "nbformat_minor": 2
}
